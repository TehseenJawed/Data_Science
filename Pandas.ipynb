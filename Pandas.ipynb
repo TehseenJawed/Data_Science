{
 "cells": [
  {
   "cell_type": "markdown",
   "metadata": {},
   "source": [
    "# Pandas: Series"
   ]
  },
  {
   "cell_type": "code",
   "execution_count": 4,
   "metadata": {},
   "outputs": [
    {
     "name": "stdout",
     "output_type": "stream",
     "text": [
      "0    100\n",
      "1    200\n",
      "2    100\n",
      "3    400\n",
      "dtype: int64\n",
      "---------------\n",
      "[100 200 100 400]\n",
      "RangeIndex(start=0, stop=4, step=1)\n"
     ]
    }
   ],
   "source": [
    "import pandas as pd\n",
    "sales = pd.Series([100,200,100,400])\n",
    "print(sales)\n",
    "print('---------------')\n",
    "print(sales.values)\n",
    "print(sales.index)"
   ]
  },
  {
   "cell_type": "code",
   "execution_count": 5,
   "metadata": {},
   "outputs": [
    {
     "name": "stdout",
     "output_type": "stream",
     "text": [
      "Jan    100\n",
      "Feb    200\n",
      "Mar    100\n",
      "Apr    400\n",
      "dtype: int64\n",
      "----------------\n",
      "[100 200 100 400]\n",
      "Index(['Jan', 'Feb', 'Mar', 'Apr'], dtype='object')\n"
     ]
    }
   ],
   "source": [
    "sales= pd.Series([100,200,100,400], index=['Jan','Feb','Mar','Apr'])\n",
    "print(sales)\n",
    "print('----------------')\n",
    "print(sales.values)\n",
    "print(sales.index)"
   ]
  },
  {
   "cell_type": "code",
   "execution_count": null,
   "metadata": {},
   "outputs": [],
   "source": []
  },
  {
   "cell_type": "code",
   "execution_count": 10,
   "metadata": {},
   "outputs": [
    {
     "name": "stdout",
     "output_type": "stream",
     "text": [
      "Jan    100.0\n",
      "Feb    200.0\n",
      "Mar    100.0\n",
      "Apr    400.0\n",
      "Name: 4 month sales, dtype: float64\n",
      "Jan    100\n",
      "Feb    200\n",
      "Mar    100\n",
      "Apr    400\n",
      "Name: 4 month sales, dtype: int64\n",
      "[100 200 100 400]\n"
     ]
    }
   ],
   "source": [
    "monthNames= ['Jan','Feb','Mar','Apr']\n",
    "sales = pd.Series([100.,200.,100.,400.], index=['Jan','Feb','Mar','Apr'], name=\"4 month sales\")\n",
    "#both are same\n",
    "saless = pd.Series([100,200,100,400], index=monthNames, name=\"4 month sales\")\n",
    "print(sales)\n",
    "print(saless)\n",
    "print(saless.values)"
   ]
  },
  {
   "cell_type": "code",
   "execution_count": 14,
   "metadata": {},
   "outputs": [
    {
     "name": "stdout",
     "output_type": "stream",
     "text": [
      "Mon     25\n",
      "Tues    40\n",
      "Wed     10\n",
      "Thur    71\n",
      "Fri     50\n",
      "Name: Sandwidthes in Week , dtype: int64\n",
      "40\n"
     ]
    }
   ],
   "source": [
    "kantine=pd.Series([25,40,10,71,50], index=['Mon','Tues','Wed','Thur','Fri'], name=\"Sandwidthes in Week \")\n",
    "print(kantine)\n",
    "print(kantine['Tues'])"
   ]
  },
  {
   "cell_type": "code",
   "execution_count": 23,
   "metadata": {},
   "outputs": [
    {
     "name": "stdout",
     "output_type": "stream",
     "text": [
      "                                  2016\n",
      "\n",
      "      January                   February                   March\n",
      "Mo Tu We Th Fr Sa Su      Mo Tu We Th Fr Sa Su      Mo Tu We Th Fr Sa Su\n",
      "             1  2  3       1  2  3  4  5  6  7          1  2  3  4  5  6\n",
      " 4  5  6  7  8  9 10       8  9 10 11 12 13 14       7  8  9 10 11 12 13\n",
      "11 12 13 14 15 16 17      15 16 17 18 19 20 21      14 15 16 17 18 19 20\n",
      "18 19 20 21 22 23 24      22 23 24 25 26 27 28      21 22 23 24 25 26 27\n",
      "25 26 27 28 29 30 31      29                        28 29 30 31\n",
      "\n",
      "       April                      May                       June\n",
      "Mo Tu We Th Fr Sa Su      Mo Tu We Th Fr Sa Su      Mo Tu We Th Fr Sa Su\n",
      "             1  2  3                         1             1  2  3  4  5\n",
      " 4  5  6  7  8  9 10       2  3  4  5  6  7  8       6  7  8  9 10 11 12\n",
      "11 12 13 14 15 16 17       9 10 11 12 13 14 15      13 14 15 16 17 18 19\n",
      "18 19 20 21 22 23 24      16 17 18 19 20 21 22      20 21 22 23 24 25 26\n",
      "25 26 27 28 29 30         23 24 25 26 27 28 29      27 28 29 30\n",
      "                          30 31\n",
      "\n",
      "        July                     August                  September\n",
      "Mo Tu We Th Fr Sa Su      Mo Tu We Th Fr Sa Su      Mo Tu We Th Fr Sa Su\n",
      "             1  2  3       1  2  3  4  5  6  7                1  2  3  4\n",
      " 4  5  6  7  8  9 10       8  9 10 11 12 13 14       5  6  7  8  9 10 11\n",
      "11 12 13 14 15 16 17      15 16 17 18 19 20 21      12 13 14 15 16 17 18\n",
      "18 19 20 21 22 23 24      22 23 24 25 26 27 28      19 20 21 22 23 24 25\n",
      "25 26 27 28 29 30 31      29 30 31                  26 27 28 29 30\n",
      "\n",
      "      October                   November                  December\n",
      "Mo Tu We Th Fr Sa Su      Mo Tu We Th Fr Sa Su      Mo Tu We Th Fr Sa Su\n",
      "                1  2          1  2  3  4  5  6                1  2  3  4\n",
      " 3  4  5  6  7  8  9       7  8  9 10 11 12 13       5  6  7  8  9 10 11\n",
      "10 11 12 13 14 15 16      14 15 16 17 18 19 20      12 13 14 15 16 17 18\n",
      "17 18 19 20 21 22 23      21 22 23 24 25 26 27      19 20 21 22 23 24 25\n",
      "24 25 26 27 28 29 30      28 29 30                  26 27 28 29 30 31\n",
      "31\n",
      "\n"
     ]
    }
   ],
   "source": [
    "import calendar\n",
    "month = calendar.calendar(2016)\n",
    "print(month)\n"
   ]
  },
  {
   "cell_type": "code",
   "execution_count": null,
   "metadata": {},
   "outputs": [],
   "source": []
  },
  {
   "cell_type": "markdown",
   "metadata": {},
   "source": [
    "\n",
    "# Create a pandas series to store a canteen data to hold values of how many sandwithes are sold each days(one week)"
   ]
  },
  {
   "cell_type": "raw",
   "metadata": {},
   "source": []
  },
  {
   "cell_type": "code",
   "execution_count": 29,
   "metadata": {},
   "outputs": [
    {
     "name": "stdout",
     "output_type": "stream",
     "text": [
      "January       10\n",
      "February      13\n",
      "March         84\n",
      "April         53\n",
      "May           74\n",
      "June          59\n",
      "July          30\n",
      "August        24\n",
      "September     73\n",
      "October      100\n",
      "November      96\n",
      "December      48\n",
      "dtype: int32\n"
     ]
    }
   ],
   "source": [
    "import numpy as np\n",
    "import calendar\n",
    "values = np.random.randint(10,101, size =[12])\n",
    "months = []\n",
    "for i in range(1,13):\n",
    "    mnth = calendar.month_name[i]\n",
    "    months.append(mnth)\n",
    "    \n",
    "sw=pd.Series(values, index= months)\n",
    "print(sw)"
   ]
  },
  {
   "cell_type": "code",
   "execution_count": 31,
   "metadata": {},
   "outputs": [
    {
     "name": "stdout",
     "output_type": "stream",
     "text": [
      "March    84\n",
      "July     30\n",
      "dtype: int32\n"
     ]
    }
   ],
   "source": [
    "print(sw[['March','July']])"
   ]
  },
  {
   "cell_type": "code",
   "execution_count": 32,
   "metadata": {},
   "outputs": [
    {
     "name": "stdout",
     "output_type": "stream",
     "text": [
      "Punjab         45000.0\n",
      "Sindh          35000.0\n",
      "KPK            30000.0\n",
      "Balochistan    20000.0\n",
      "GB                 NaN\n",
      "dtype: float64\n",
      "Punjab         False\n",
      "Sindh          False\n",
      "KPK            False\n",
      "Balochistan    False\n",
      "GB              True\n",
      "dtype: bool\n"
     ]
    }
   ],
   "source": [
    "sdata = {\"Sindh\": 35000, \"Punjab\":45000, \"KPK\":30000, \"Balochistan\": 20000}\n",
    "tax_by_state = pd.Series(sdata, index = ['Punjab','Sindh','KPK','Balochistan','GB'])\n",
    "print(tax_by_state)\n",
    "print(pd.isnull(tax_by_state))"
   ]
  },
  {
   "cell_type": "code",
   "execution_count": null,
   "metadata": {},
   "outputs": [],
   "source": [
    "sdata = {\"Sindh\": 35000, \"Punjab\":45000, \"KPK\":30000, \"Balochistan\": 20000}\n",
    "\n",
    "tax_by_state = pd.Series(list(sdata.values()),\n",
    "                         index"
   ]
  },
  {
   "cell_type": "code",
   "execution_count": 1,
   "metadata": {},
   "outputs": [
    {
     "name": "stdout",
     "output_type": "stream",
     "text": [
      "   apples  oranges\n",
      "0       3        3\n",
      "1       2        4\n",
      "2       0        7\n",
      "3       1        8\n"
     ]
    }
   ],
   "source": [
    "import pandas as pd\n",
    "\n",
    "apples = pd.Series([3,2,0,1])\n",
    "oranges = pd.Series([3,4,7,8])\n",
    "\n",
    "data = {\"apples\": apples, \"oranges\":oranges}\n",
    "fruits_df=pd.DataFrame(data)\n",
    "print(fruits_df)"
   ]
  },
  {
   "cell_type": "code",
   "execution_count": null,
   "metadata": {},
   "outputs": [],
   "source": [
    "frame2 = pd.DataFrame(data, columns=[100,200,300,400], index =[10,20,30,40])\n",
    "frame2.head()"
   ]
  }
 ],
 "metadata": {
  "kernelspec": {
   "display_name": "Python 3",
   "language": "python",
   "name": "python3"
  },
  "language_info": {
   "codemirror_mode": {
    "name": "ipython",
    "version": 3
   },
   "file_extension": ".py",
   "mimetype": "text/x-python",
   "name": "python",
   "nbconvert_exporter": "python",
   "pygments_lexer": "ipython3",
   "version": "3.7.3"
  }
 },
 "nbformat": 4,
 "nbformat_minor": 2
}
