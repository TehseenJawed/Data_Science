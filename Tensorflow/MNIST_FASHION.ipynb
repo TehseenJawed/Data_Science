{
 "cells": [
  {
   "cell_type": "code",
   "execution_count": 1,
   "metadata": {},
   "outputs": [],
   "source": [
    "import tensorflow as tf"
   ]
  },
  {
   "cell_type": "code",
   "execution_count": 2,
   "metadata": {},
   "outputs": [
    {
     "name": "stdout",
     "output_type": "stream",
     "text": [
      "Downloading data from https://storage.googleapis.com/tensorflow/tf-keras-datasets/train-labels-idx1-ubyte.gz\n",
      "32768/29515 [=================================] - 0s 3us/step\n",
      "Downloading data from https://storage.googleapis.com/tensorflow/tf-keras-datasets/train-images-idx3-ubyte.gz\n",
      "26427392/26421880 [==============================] - 259s 10us/step\n",
      "Downloading data from https://storage.googleapis.com/tensorflow/tf-keras-datasets/t10k-labels-idx1-ubyte.gz\n",
      "8192/5148 [===============================================] - 0s 2us/step\n",
      "Downloading data from https://storage.googleapis.com/tensorflow/tf-keras-datasets/t10k-images-idx3-ubyte.gz\n",
      "4423680/4422102 [==============================] - 43s 10us/step\n"
     ]
    },
    {
     "data": {
      "text/plain": [
       "(60000, 28, 28)"
      ]
     },
     "execution_count": 2,
     "metadata": {},
     "output_type": "execute_result"
    }
   ],
   "source": [
    "mnist = tf.keras.datasets.fashion_mnist\n",
    "(train_image, train_labels),(test_image, test_labels)=mnist.load_data()\n",
    "train_image.shape"
   ]
  },
  {
   "cell_type": "code",
   "execution_count": 3,
   "metadata": {},
   "outputs": [],
   "source": [
    "train_image = train_image / 255.0\n",
    "test_image = test_image / 255.0\n"
   ]
  },
  {
   "cell_type": "code",
   "execution_count": 7,
   "metadata": {},
   "outputs": [],
   "source": [
    "model = tf.keras.models.Sequential([tf.keras.layers.Flatten(),\n",
    "                                   tf.keras.layers.Dense(256, activation=tf.nn.relu),\n",
    "                                  tf.keras.layers.Dense(10, activation=tf.nn.softmax)])\n",
    "model.compile(optimizer=tf.keras.optimizers.Adam(),\n",
    "              loss = 'sparse_categorical_crossentropy',\n",
    "              metrics = ['accuracy'])\n"
   ]
  },
  {
   "cell_type": "code",
   "execution_count": 10,
   "metadata": {},
   "outputs": [
    {
     "name": "stdout",
     "output_type": "stream",
     "text": [
      "Train on 60000 samples\n",
      "Epoch 1/30\n",
      "60000/60000 [==============================] - 5s 85us/sample - loss: 0.1720 - accuracy: 0.9359\n",
      "Epoch 2/30\n",
      "60000/60000 [==============================] - 5s 91us/sample - loss: 0.1682 - accuracy: 0.9368\n",
      "Epoch 3/30\n",
      "60000/60000 [==============================] - 5s 88us/sample - loss: 0.1600 - accuracy: 0.9402\n",
      "Epoch 4/30\n",
      "60000/60000 [==============================] - 5s 83us/sample - loss: 0.1577 - accuracy: 0.9413\n",
      "Epoch 5/30\n",
      "60000/60000 [==============================] - 4s 74us/sample - loss: 0.1537 - accuracy: 0.9424\n",
      "Epoch 6/30\n",
      "60000/60000 [==============================] - 5s 76us/sample - loss: 0.1484 - accuracy: 0.9440\n",
      "Epoch 7/30\n",
      "60000/60000 [==============================] - 5s 81us/sample - loss: 0.1457 - accuracy: 0.9449\n",
      "Epoch 8/30\n",
      "60000/60000 [==============================] - 5s 78us/sample - loss: 0.1399 - accuracy: 0.9478\n",
      "Epoch 9/30\n",
      "60000/60000 [==============================] - 4s 74us/sample - loss: 0.1371 - accuracy: 0.9497\n",
      "Epoch 10/30\n",
      "60000/60000 [==============================] - 4s 75us/sample - loss: 0.1329 - accuracy: 0.9502\n",
      "Epoch 11/30\n",
      "60000/60000 [==============================] - 5s 86us/sample - loss: 0.1282 - accuracy: 0.9528\n",
      "Epoch 12/30\n",
      "60000/60000 [==============================] - 5s 88us/sample - loss: 0.1258 - accuracy: 0.9528\n",
      "Epoch 13/30\n",
      "60000/60000 [==============================] - 5s 75us/sample - loss: 0.1210 - accuracy: 0.9547\n",
      "Epoch 14/30\n",
      "60000/60000 [==============================] - 5s 76us/sample - loss: 0.1169 - accuracy: 0.9557\n",
      "Epoch 15/30\n",
      "60000/60000 [==============================] - 5s 88us/sample - loss: 0.1154 - accuracy: 0.9563\n",
      "Epoch 16/30\n",
      "60000/60000 [==============================] - 5s 88us/sample - loss: 0.1116 - accuracy: 0.9582\n",
      "Epoch 17/30\n",
      "60000/60000 [==============================] - 5s 89us/sample - loss: 0.1097 - accuracy: 0.9593\n",
      "Epoch 18/30\n",
      "60000/60000 [==============================] - 5s 76us/sample - loss: 0.1092 - accuracy: 0.9593\n",
      "Epoch 19/30\n",
      "60000/60000 [==============================] - 5s 78us/sample - loss: 0.1030 - accuracy: 0.9622\n",
      "Epoch 20/30\n",
      "60000/60000 [==============================] - 4s 70us/sample - loss: 0.1003 - accuracy: 0.9630\n",
      "Epoch 21/30\n",
      "60000/60000 [==============================] - 4s 73us/sample - loss: 0.0980 - accuracy: 0.9635\n",
      "Epoch 22/30\n",
      "60000/60000 [==============================] - 4s 70us/sample - loss: 0.0996 - accuracy: 0.9631\n",
      "Epoch 23/30\n",
      "60000/60000 [==============================] - 4s 73us/sample - loss: 0.0941 - accuracy: 0.9645\n",
      "Epoch 24/30\n",
      "60000/60000 [==============================] - 5s 79us/sample - loss: 0.0946 - accuracy: 0.9648\n",
      "Epoch 25/30\n",
      "60000/60000 [==============================] - 4s 73us/sample - loss: 0.0899 - accuracy: 0.9669\n",
      "Epoch 26/30\n",
      "60000/60000 [==============================] - 5s 77us/sample - loss: 0.0907 - accuracy: 0.9664\n",
      "Epoch 27/30\n",
      "60000/60000 [==============================] - 5s 78us/sample - loss: 0.0861 - accuracy: 0.9682\n",
      "Epoch 28/30\n",
      "60000/60000 [==============================] - 5s 78us/sample - loss: 0.0867 - accuracy: 0.9675\n",
      "Epoch 29/30\n",
      "60000/60000 [==============================] - 4s 75us/sample - loss: 0.0826 - accuracy: 0.9689\n",
      "Epoch 30/30\n",
      "60000/60000 [==============================] - 4s 71us/sample - loss: 0.0841 - accuracy: 0.9683\n"
     ]
    },
    {
     "data": {
      "text/plain": [
       "<tensorflow.python.keras.callbacks.History at 0x20456a94978>"
      ]
     },
     "execution_count": 10,
     "metadata": {},
     "output_type": "execute_result"
    }
   ],
   "source": [
    "model.fit(train_image, train_labels, epochs=30, batch_size=64)"
   ]
  },
  {
   "cell_type": "code",
   "execution_count": 12,
   "metadata": {},
   "outputs": [
    {
     "name": "stdout",
     "output_type": "stream",
     "text": [
      "10000/10000 [==============================] - 1s 78us/sample - loss: 0.5063 - accuracy: 0.8893\n"
     ]
    },
    {
     "data": {
      "text/plain": [
       "[0.506287238329649, 0.8893]"
      ]
     },
     "execution_count": 12,
     "metadata": {},
     "output_type": "execute_result"
    }
   ],
   "source": [
    "model.evaluate(test_image, test_labels)"
   ]
  },
  {
   "cell_type": "code",
   "execution_count": null,
   "metadata": {},
   "outputs": [],
   "source": []
  }
 ],
 "metadata": {
  "kernelspec": {
   "display_name": "Python 3",
   "language": "python",
   "name": "python3"
  },
  "language_info": {
   "codemirror_mode": {
    "name": "ipython",
    "version": 3
   },
   "file_extension": ".py",
   "mimetype": "text/x-python",
   "name": "python",
   "nbconvert_exporter": "python",
   "pygments_lexer": "ipython3",
   "version": "3.7.3"
  }
 },
 "nbformat": 4,
 "nbformat_minor": 2
}
